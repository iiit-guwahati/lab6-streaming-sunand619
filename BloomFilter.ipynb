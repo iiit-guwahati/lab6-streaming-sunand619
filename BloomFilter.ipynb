{
 "cells": [
  {
   "cell_type": "markdown",
   "metadata": {},
   "source": [
    "# Bloom Filter \n",
    "\n",
    "The Bloom Filtering is a technique that is popularly used for setting a filter on a stream so that only the items that have been already seen before. So it allows all stream elements whose keys are in a stream $S$ while rejecting most of the stream elements whose keys are not in $S$."
   ]
  },
  {
   "cell_type": "markdown",
   "metadata": {},
   "source": [
    "First define some helper methdos that can help in the implementation."
   ]
  },
  {
   "cell_type": "code",
   "execution_count": null,
   "metadata": {},
   "outputs": [],
   "source": [
    "# We will use the bitarray library for defining the hash table\n",
    "import numpy as np\n",
    "import bitarray\n",
    "import random"
   ]
  },
  {
   "cell_type": "code",
   "execution_count": 1,
   "metadata": {},
   "outputs": [],
   "source": [
    "# ca and cb are hash function co-efficients\n",
    "# val is the value to be hashed\n",
    "# p is the current size of the hash table (the mod part, find a large prime number for this that is >p)\n",
    "\n",
    "def hashFunc(ca, cb, val, p):"
   ]
  },
  {
   "cell_type": "code",
   "execution_count": 2,
   "metadata": {},
   "outputs": [],
   "source": [
    "# Now set to 1 in the bitarray b from hashFunc()\n",
    "\n",
    "def updateFilter(pos, b) : b[pos] = 1"
   ]
  },
  {
   "cell_type": "markdown",
   "metadata": {},
   "source": [
    "You all are aware of the probability relationship in Bom Filters which can be given by:\n",
    "\n",
    "$P = (1 - (1-\\frac{1}{n})^{km})^k$\n",
    "\n",
    "where n is the size of the bit-array and there are m items to be filtered.\n",
    "\n",
    "In the following function set the size of the hash table (prime) which can be found out by using the formula derived from the above one as:\n",
    "\n",
    "$n = -\\frac{m\\ln P}{(ln 2)^2}$\n",
    "\n",
    "Additionally the number of hash functions can be computed as :\n",
    "\n",
    "$k = \\frac{n}{m} ln2$"
   ]
  },
  {
   "cell_type": "code",
   "execution_count": null,
   "metadata": {},
   "outputs": [],
   "source": [
    "# set the size of the hash table (which is a bitarray)\n",
    "p = "
   ]
  },
  {
   "cell_type": "code",
   "execution_count": null,
   "metadata": {},
   "outputs": [],
   "source": [
    "# now generate k hash functions using random integers for ca and cb and maximum size p\n",
    "def generateHashFunc()"
   ]
  },
  {
   "cell_type": "markdown",
   "metadata": {},
   "source": [
    "Now input the data list (of emails from /email directory)"
   ]
  },
  {
   "cell_type": "markdown",
   "metadata": {},
   "source": [
    "For each of the emails, find the unicode sum for all of it's characters using ord() function"
   ]
  },
  {
   "cell_type": "markdown",
   "metadata": {},
   "source": [
    "Use the unicode sums as the val in hashFunc() to hash each email"
   ]
  },
  {
   "cell_type": "markdown",
   "metadata": {},
   "source": [
    "Now input the test data and for every data, write the following check() function where it will go over the k hash functions and see if the email has been seen or not. If any of the bit is the bitarray is false, then the email does not exist else there is a probability P that it exists."
   ]
  },
  {
   "cell_type": "code",
   "execution_count": null,
   "metadata": {},
   "outputs": [],
   "source": [
    "def check(item):"
   ]
  },
  {
   "cell_type": "markdown",
   "metadata": {},
   "source": [
    "For the test data, show what is the value of P, what is size of bit-array, and how many are definietly not present, how many are probably present, and how many false positives are there in the bit array."
   ]
  }
 ],
 "metadata": {
  "kernelspec": {
   "display_name": "Python 3",
   "language": "python",
   "name": "python3"
  },
  "language_info": {
   "codemirror_mode": {
    "name": "ipython",
    "version": 3
   },
   "file_extension": ".py",
   "mimetype": "text/x-python",
   "name": "python",
   "nbconvert_exporter": "python",
   "pygments_lexer": "ipython3",
   "version": "3.6.8"
  }
 },
 "nbformat": 4,
 "nbformat_minor": 1
}
