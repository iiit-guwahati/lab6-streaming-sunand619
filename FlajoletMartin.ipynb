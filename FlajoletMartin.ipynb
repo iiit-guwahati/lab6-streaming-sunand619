{
 "cells": [
  {
   "cell_type": "markdown",
   "metadata": {},
   "source": [
    "# Flajolet Martin Algorithm for counting Distinct Elements \n",
    "\n",
    "In this implementation we are going to implement the FM algorithm foounting the number of unique quotes from the provided data file (memes). You have to implement the following:"
   ]
  },
  {
   "cell_type": "markdown",
   "metadata": {},
   "source": [
    "First define a function to count the number of trailing zeroes in tha binary representation."
   ]
  },
  {
   "cell_type": "code",
   "execution_count": null,
   "metadata": {},
   "outputs": [],
   "source": [
    "import mmh3\n",
    "import statistics\n",
    "import math\n",
    "def count_trailing_zeroes(n):"
   ]
  },
  {
   "cell_type": "markdown",
   "metadata": {},
   "source": [
    "Now input the file memes.txt that is provided in the /meme directory"
   ]
  },
  {
   "cell_type": "markdown",
   "metadata": {},
   "source": [
    "Initialize two arrays one for storing the different hashed values (binary) and another for storing the trailing zeroes."
   ]
  },
  {
   "cell_type": "code",
   "execution_count": 1,
   "metadata": {},
   "outputs": [],
   "source": [
    "binary = [\"\" for i in range(10)]\n",
    "trails = [[] for i in range(10)]"
   ]
  },
  {
   "cell_type": "markdown",
   "metadata": {},
   "source": [
    "For every line in the file do the following:\n",
    "1. Use murmur hash to hash the line to a binary format using 10 seeds (varying from 1 to 10)\n",
    "     1. for (s in range(10))\n",
    "           binary[s] = format(abs(mmh3.hash(line, seed))), '032b')\n",
    "     2. for every binary[s] call count_trailing_zeroes() to find the number of trailing zeroes and and store in trails[]"
   ]
  },
  {
   "cell_type": "markdown",
   "metadata": {},
   "source": [
    "Now create two groups of hashes (5 each). In each group calculate the expected number of disctinct element using the fact that it is with high probability $2^R$"
   ]
  },
  {
   "cell_type": "markdown",
   "metadata": {},
   "source": [
    "Take median of the averages of group wise results and show result"
   ]
  }
 ],
 "metadata": {
  "kernelspec": {
   "display_name": "Python 3",
   "language": "python",
   "name": "python3"
  },
  "language_info": {
   "codemirror_mode": {
    "name": "ipython",
    "version": 3
   },
   "file_extension": ".py",
   "mimetype": "text/x-python",
   "name": "python",
   "nbconvert_exporter": "python",
   "pygments_lexer": "ipython3",
   "version": "3.6.8"
  }
 },
 "nbformat": 4,
 "nbformat_minor": 1
}
