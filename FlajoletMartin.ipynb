{
  "nbformat": 4,
  "nbformat_minor": 0,
  "metadata": {
    "kernelspec": {
      "display_name": "Python 3",
      "language": "python",
      "name": "python3"
    },
    "language_info": {
      "codemirror_mode": {
        "name": "ipython",
        "version": 3
      },
      "file_extension": ".py",
      "mimetype": "text/x-python",
      "name": "python",
      "nbconvert_exporter": "python",
      "pygments_lexer": "ipython3",
      "version": "3.6.8"
    },
    "colab": {
      "name": "FlajoletMartin.ipynb",
      "provenance": [],
      "collapsed_sections": []
    }
  },
  "cells": [
    {
      "cell_type": "markdown",
      "metadata": {
        "id": "QNfupgw0G94l"
      },
      "source": [
        "# Flajolet Martin Algorithm for counting Distinct Elements \n",
        "\n",
        "In this implementation we are going to implement the FM algorithm foounting the number of unique quotes from the provided data file (memes). You have to implement the following:"
      ]
    },
    {
      "cell_type": "markdown",
      "metadata": {
        "id": "IntuTX4WG94x"
      },
      "source": [
        "First define a function to count the number of trailing zeroes in tha binary representation."
      ]
    },
    {
      "cell_type": "code",
      "metadata": {
        "id": "BMQpRtdbG943",
        "outputId": "bbf59c2c-dc3b-4756-9c18-db73a7731fa3",
        "colab": {
          "base_uri": "https://localhost:8080/"
        }
      },
      "source": [
        "import mmh3\n",
        "import statistics\n",
        "import math\n",
        "def count_trailing_zeroes(n):\n",
        "  string=str(n)\n",
        "  l1=len(string)\n",
        "  l2=len(string.rstrip('0'))\n",
        "  return l1-l2"
      ],
      "execution_count": 31,
      "outputs": [
        {
          "output_type": "stream",
          "text": [
            "Requirement already satisfied: mmh3 in /usr/local/lib/python3.6/dist-packages (2.5.1)\n"
          ],
          "name": "stdout"
        }
      ]
    },
    {
      "cell_type": "markdown",
      "metadata": {
        "id": "z2Ldv6_eG95k"
      },
      "source": [
        "Now input the file memes.txt that is provided in the /meme directory"
      ]
    },
    {
      "cell_type": "code",
      "metadata": {
        "id": "P8ayINk7JzEp"
      },
      "source": [
        "file=open('meme.txt','r')"
      ],
      "execution_count": 32,
      "outputs": []
    },
    {
      "cell_type": "markdown",
      "metadata": {
        "id": "NU6ddip1G95p"
      },
      "source": [
        "Initialize two arrays one for storing the different hashed values (binary) and another for storing the trailing zeroes."
      ]
    },
    {
      "cell_type": "code",
      "metadata": {
        "id": "Qdm-n0niG95w"
      },
      "source": [
        "binary = [\"\" for i in range(10)]\n",
        "trails = [[] for i in range(10)]"
      ],
      "execution_count": 33,
      "outputs": []
    },
    {
      "cell_type": "markdown",
      "metadata": {
        "id": "ANVMZKIRG96I"
      },
      "source": [
        "For every line in the file do the following:\n",
        "1. Use murmur hash to hash the line to a binary format using 10 seeds (varying from 1 to 10)\n",
        "     1. for (s in range(10))\n",
        "           binary[s] = format(abs(mmh3.hash(line, seed))), '032b')\n",
        "     2. for every binary[s] call count_trailing_zeroes() to find the number of trailing zeroes and and store in trails[]"
      ]
    },
    {
      "cell_type": "code",
      "metadata": {
        "id": "Y_y_52d5J-dp"
      },
      "source": [
        "for line in file:\n",
        "\t\tquote = line.split(\"\\t\")\n",
        "\t\tfor s in range(10):\n",
        "\t\t\t\tbinary[s] = format(abs(mmh3.hash(quote[1], s)), '032b')\n",
        "\t\t\t\ttrails[s].append(count_trailing_zeroes(binary[s]))"
      ],
      "execution_count": 34,
      "outputs": []
    },
    {
      "cell_type": "markdown",
      "metadata": {
        "id": "8wjGyclhG96M"
      },
      "source": [
        "Now create two groups of hashes (5 each). In each group calculate the expected number of disctinct element using the fact that it is with high probability $2^R$"
      ]
    },
    {
      "cell_type": "code",
      "metadata": {
        "id": "rkjvL-gX3E79"
      },
      "source": [
        "group1 = pow(2,max(trails[0]))+pow(2,max(trails[1]))+pow(2,max(trails[2]))+pow(2,max(trails[3]))+pow(2,max(trails[4])) \n",
        "group2 = pow(2,max(trails[5]))+pow(2,max(trails[6]))+pow(2,max(trails[7]))+pow(2,max(trails[8]))+pow(2,max(trails[9]))"
      ],
      "execution_count": 36,
      "outputs": []
    },
    {
      "cell_type": "markdown",
      "metadata": {
        "id": "HngyA-zYG96R"
      },
      "source": [
        "Take median of the averages of group wise results and show result"
      ]
    },
    {
      "cell_type": "code",
      "metadata": {
        "id": "14YSzQUyMed7",
        "outputId": "fb0fd358-8b16-4da1-88d8-46cf72f5602a",
        "colab": {
          "base_uri": "https://localhost:8080/"
        }
      },
      "source": [
        "list=[group1/5,group2/5]\n",
        "print(\"Median:\")\n",
        "print (statistics.median(list))\t"
      ],
      "execution_count": 37,
      "outputs": [
        {
          "output_type": "stream",
          "text": [
            "Median:\n",
            "583270.4\n"
          ],
          "name": "stdout"
        }
      ]
    },
    {
      "cell_type": "code",
      "metadata": {
        "id": "MupxdGOOBJrp"
      },
      "source": [
        ""
      ],
      "execution_count": 37,
      "outputs": []
    }
  ]
}